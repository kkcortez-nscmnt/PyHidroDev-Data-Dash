{
 "cells": [
  {
   "cell_type": "code",
   "execution_count": 3,
   "id": "b7ecc0a3",
   "metadata": {},
   "outputs": [],
   "source": [
    "from utils.get_path_files import get_path_files\n",
    "from utils.copy_and_rename_files import copy_and_rename_files"
   ]
  },
  {
   "cell_type": "code",
   "execution_count": 4,
   "id": "a5fb595f",
   "metadata": {},
   "outputs": [
    {
     "name": "stdout",
     "output_type": "stream",
     "text": [
      "\n",
      "1. Encontrados 3 arquivos:\n",
      " - D:\\python-data-base\\src\\files\\Customer Contracts$.csv\n",
      " - D:\\python-data-base\\src\\files\\dois\\Te st$e dois$%.csv\n",
      " - D:\\python-data-base\\src\\files\\tres\\TESTE TRES.csv\n",
      "\n",
      "2. Processando e copiando arquivos ...\n",
      "\n",
      "3. Processamento concluído!\n",
      "Arquivos processados\n",
      " D:\\python-data-base\\src\\files\\Customer Contracts$.csv -> d:\\python-data-base\\src\\dist\\customer_contracts.csv\n",
      " D:\\python-data-base\\src\\files\\dois\\Te st$e dois$%.csv -> d:\\python-data-base\\src\\dist\\dois\\te_ste_dois.csv\n",
      " D:\\python-data-base\\src\\files\\tres\\TESTE TRES.csv -> d:\\python-data-base\\src\\dist\\tres\\teste_tres.csv\n"
     ]
    }
   ],
   "source": [
    "raw_file_paths = get_path_files(\"files\",[\"csv\"])\n",
    "print (f\"\\n1. Encontrados {len(raw_file_paths)} arquivos:\")\n",
    "for path in raw_file_paths:\n",
    "    print(f\" - {path}\")\n",
    "print(\"\\n2. Processando e copiando arquivos ...\")\n",
    "\n",
    "processed_files = copy_and_rename_files(raw_file_paths, \"files\",\"dist\")\n",
    "print(\"\\n3. Processamento concluído!\")\n",
    "print(\"Arquivos processados\")\n",
    "for original, dist in processed_files.items():\n",
    "    print(f\" {original} -> {dist}\")"
   ]
  },
  {
   "cell_type": "code",
   "execution_count": null,
   "id": "5499b0f7",
   "metadata": {},
   "outputs": [],
   "source": []
  }
 ],
 "metadata": {
  "kernelspec": {
   "display_name": "venv",
   "language": "python",
   "name": "python3"
  },
  "language_info": {
   "codemirror_mode": {
    "name": "ipython",
    "version": 3
   },
   "file_extension": ".py",
   "mimetype": "text/x-python",
   "name": "python",
   "nbconvert_exporter": "python",
   "pygments_lexer": "ipython3",
   "version": "3.12.7"
  }
 },
 "nbformat": 4,
 "nbformat_minor": 5
}
